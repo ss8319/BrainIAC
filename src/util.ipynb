{
 "cells": [
  {
   "cell_type": "code",
   "execution_count": 7,
   "metadata": {},
   "outputs": [],
   "source": [
    "import pandas as pd\n",
    "\n",
    "# Read the CSV file\n",
    "df = pd.read_csv('/media/data/divyanshu/foundation_model/Brainiac_revision/simclrvit_finetuning/seg_csvs/k5_train.csv')\n",
    "\n",
    "# Replace the path in both image_path and mask_path columns\n",
    "df['image_path'] = df['image_path'].str.replace('/media/sdb/divyanshu/divyanshu/Brainiac_revision', \n",
    "                                               '/media/data/divyanshu/foundation_model/brainiac_data/brats_data')\n",
    "df['mask_path'] = df['mask_path'].str.replace('/media/sdb/divyanshu/divyanshu/Brainiac_revision', \n",
    "                                             '/media/data/divyanshu/foundation_model/brainiac_data/brats_data')\n",
    "\n",
    "# Save the modified CSV\n",
    "df.to_csv('/media/data/divyanshu/foundation_model/Brainiac_revision/simclrvit_finetuning/seg_csvs/k5_train.csv', index=False)\n"
   ]
  },
  {
   "cell_type": "code",
   "execution_count": 9,
   "metadata": {},
   "outputs": [],
   "source": [
    "# Read the CSV file\n",
    "import pandas as pd\n",
    "df = pd.read_csv('/media/data/divyanshu/foundation_model/Brainiac_revision/simclrvit_finetuning/seg_csvs/k5_val.csv')\n",
    "\n",
    "# Replace the duplicate brats_data in paths\n",
    "df['image_path'] = df['image_path'].str.replace('/brats_data/brats_data/', '/brats_data/')\n",
    "df['mask_path'] = df['mask_path'].str.replace('/brats_data/brats_data/', '/brats_data/')\n",
    "\n",
    "# Save the modified CSV\n",
    "df.to_csv('/media/data/divyanshu/foundation_model/Brainiac_revision/simclrvit_finetuning/seg_csvs/k5_val.csv', index=False)\n"
   ]
  },
  {
   "cell_type": "code",
   "execution_count": 1,
   "metadata": {},
   "outputs": [
    {
     "name": "stdout",
     "output_type": "stream",
     "text": [
      "Found 12 files in /media/data/divyanshu/foundation_model/Brainiac_revision/simclrvit_finetuning/brainsegfound_segmentation_csvs\n",
      "Renamed: medincalnet_100_per_case_dice.csv → segmentation_medincalnet_100_per_case_dice.csv\n",
      "Renamed: brainsegdound_10_per_case_dice.csv → segmentation_brainsegdound_10_per_case_dice.csv\n",
      "Renamed: medicalnet_40_per_case_dice.csv → segmentation_medicalnet_40_per_case_dice.csv\n",
      "Renamed: brainsegdound_100_per_case_dice.csv → segmentation_brainsegdound_100_per_case_dice.csv\n",
      "Renamed: medicalnet_10_per_case_dice.csv → segmentation_medicalnet_10_per_case_dice.csv\n",
      "Renamed: medicalnet_20_per_case_dice.csv → segmentation_medicalnet_20_per_case_dice.csv\n",
      "Renamed: brainsegdound_80_per_case_dice.csv → segmentation_brainsegdound_80_per_case_dice.csv\n",
      "Renamed: brainsegdound_40_per_case_dice.csv → segmentation_brainsegdound_40_per_case_dice.csv\n",
      "Renamed: brainsegdound_20_per_case_dice.csv → segmentation_brainsegdound_20_per_case_dice.csv\n",
      "Renamed: medicalnet_80_per_case_dice.csv → segmentation_medicalnet_80_per_case_dice.csv\n",
      "Renamed: brainsegdound_60_per_case_dice.csv → segmentation_brainsegdound_60_per_case_dice.csv\n",
      "Renamed: medicalnet_60_per_case_dice.csv → segmentation_medicalnet_60_per_case_dice.csv\n",
      "Renaming complete!\n"
     ]
    }
   ],
   "source": [
    "import os\n",
    "import shutil\n",
    "\n",
    "# Define the source directory\n",
    "source_dir = \"/media/data/divyanshu/foundation_model/Brainiac_revision/simclrvit_finetuning/brainsegfound_segmentation_csvs\"\n",
    "\n",
    "# Check if directory exists\n",
    "if not os.path.exists(source_dir):\n",
    "    print(f\"Directory {source_dir} does not exist!\")\n",
    "else:\n",
    "    # Get all files in the directory\n",
    "    files = os.listdir(source_dir)\n",
    "    \n",
    "    # Filter for files (not directories)\n",
    "    files = [f for f in files if os.path.isfile(os.path.join(source_dir, f))]\n",
    "    \n",
    "    print(f\"Found {len(files)} files in {source_dir}\")\n",
    "    \n",
    "    # Rename each file by adding \"segmentation_\" prefix\n",
    "    for filename in files:\n",
    "        if not filename.startswith(\"segmentation_\"):\n",
    "            old_path = os.path.join(source_dir, filename)\n",
    "            new_filename = f\"segmentation_{filename}\"\n",
    "            new_path = os.path.join(source_dir, new_filename)\n",
    "            \n",
    "            try:\n",
    "                os.rename(old_path, new_path)\n",
    "                print(f\"Renamed: {filename} → {new_filename}\")\n",
    "            except Exception as e:\n",
    "                print(f\"Error renaming {filename}: {e}\")\n",
    "        else:\n",
    "            print(f\"Skipped {filename} (already has 'segmentation_' prefix)\")\n",
    "    \n",
    "    print(\"Renaming complete!\")\n"
   ]
  },
  {
   "cell_type": "code",
   "execution_count": null,
   "metadata": {},
   "outputs": [],
   "source": []
  },
  {
   "cell_type": "code",
   "execution_count": null,
   "metadata": {},
   "outputs": [],
   "source": []
  },
  {
   "cell_type": "code",
   "execution_count": null,
   "metadata": {},
   "outputs": [],
   "source": []
  },
  {
   "cell_type": "code",
   "execution_count": null,
   "metadata": {},
   "outputs": [],
   "source": []
  }
 ],
 "metadata": {
  "kernelspec": {
   "display_name": "brainiac",
   "language": "python",
   "name": "python3"
  },
  "language_info": {
   "codemirror_mode": {
    "name": "ipython",
    "version": 3
   },
   "file_extension": ".py",
   "mimetype": "text/x-python",
   "name": "python",
   "nbconvert_exporter": "python",
   "pygments_lexer": "ipython3",
   "version": "3.9.21"
  }
 },
 "nbformat": 4,
 "nbformat_minor": 2
}
