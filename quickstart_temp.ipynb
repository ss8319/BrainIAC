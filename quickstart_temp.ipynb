{
  "cells": [
    {
      "cell_type": "markdown",
      "metadata": {
        "vscode": {
          "languageId": "raw"
        }
      },
      "source": [
        "# BrainIAC_V2 Quickstart Guide\n",
        "\n",
        "This notebook provides a quick start guide for using BrainIAC_V2 for brain MRI analysis tasks.\n",
        "\n",
        "## Prerequisites\n",
        "\n",
        "- Python 3.9+\n",
        "- CUDA-enabled GPU (recommended)\n",
        "- Required packages installed from requirements.txt\n",
        "\n",
        "## Quick Navigation\n",
        "\n",
        "1. [Data Preparation](#data-preparation)\n",
        "2. [Configuration Setup](#configuration-setup)\n",
        "3. [Model Training](#model-training)\n",
        "4. [Model Inference](#model-inference)\n",
        "5. [Visualization and Analysis](#visualization-and-analysis)\n",
        "6. [Next Steps](#next-steps)\n"
      ]
    },
    {
      "cell_type": "code",
      "execution_count": null,
      "metadata": {},
      "outputs": [],
      "source": [
        "import os\n",
        "import torch\n",
        "import pandas as pd\n",
        "import numpy as np\n",
        "from pathlib import Path\n",
        "import yaml\n",
        "\n",
        "# Set up paths\n",
        "project_root = Path.cwd()\n",
        "data_dir = project_root / \"data\"\n",
        "checkpoints_dir = project_root / \"checkpoints\"\n",
        "results_dir = project_root / \"results\"\n",
        "configs_dir = project_root / \"configs\"\n",
        "\n",
        "# Create directories if they don't exist\n",
        "data_dir.mkdir(exist_ok=True)\n",
        "checkpoints_dir.mkdir(exist_ok=True)\n",
        "results_dir.mkdir(exist_ok=True)\n",
        "configs_dir.mkdir(exist_ok=True)\n",
        "\n",
        "print(f\"✅ Project root: {project_root}\")\n",
        "print(f\"📁 Data directory: {data_dir}\")\n",
        "print(f\"🏗️  Checkpoints directory: {checkpoints_dir}\")\n",
        "print(f\"📊 Results directory: {results_dir}\")\n",
        "print(f\"⚙️  Configs directory: {configs_dir}\")\n"
      ]
    },
    {
      "cell_type": "raw",
      "metadata": {
        "vscode": {
          "languageId": "raw"
        }
      },
      "source": [
        "## 1. Data Preparation\n",
        "\n",
        "### Step 1: Check BrainIAC Foundation Model\n",
        "\n",
        "First, ensure you have the BrainIAC foundation model checkpoint:\n"
      ]
    },
    {
      "cell_type": "code",
      "execution_count": null,
      "metadata": {},
      "outputs": [],
      "source": [
        "brainiac_checkpoint = checkpoints_dir / \"BrainIAC.ckpt\"\n",
        "\n",
        "if brainiac_checkpoint.exists():\n",
        "    print(f\"✅ BrainIAC checkpoint found: {brainiac_checkpoint}\")\n",
        "    print(f\"   Size: {brainiac_checkpoint.stat().st_size / (1024**3):.1f} GB\")\n",
        "else:\n",
        "    print(f\"❌ BrainIAC checkpoint not found: {brainiac_checkpoint}\")\n",
        "    print(\"   Please download the BrainIAC.ckpt file and place it in the checkpoints directory\")\n",
        "    print(\"   This is required for all downstream tasks\")\n"
      ]
    },
    {
      "cell_type": "raw",
      "metadata": {
        "vscode": {
          "languageId": "raw"
        }
      },
      "source": [
        "## 2. Training Commands\n",
        "\n",
        "Here are the training commands for different tasks:\n",
        "\n",
        "### Brain Age Prediction\n",
        "```bash\n",
        "python src/train_lightning_brainage.py --config configs/brainage_config.yml\n",
        "```\n",
        "\n",
        "### IDH Classification (Dual-input)\n",
        "```bash\n",
        "python src/train_lightning_idh.py --config configs/idh_config.yml\n",
        "```\n",
        "\n",
        "### MCI Classification\n",
        "```bash\n",
        "python src/train_lightning_mci_stroke.py --config configs/mci_config.yml\n",
        "```\n",
        "\n",
        "### Overall Survival (Quad-input)\n",
        "```bash\n",
        "python src/train_lightning_os.py --config configs/os_config.yml\n",
        "```\n",
        "\n",
        "### Sequence Classification\n",
        "```bash\n",
        "python src/train_lightning_multiclass.py --config configs/sequence_config.yml\n",
        "```\n",
        "\n",
        "### Brain Segmentation\n",
        "```bash\n",
        "python src/train_lightning_segmentation.py --config configs/segmentation_config.yml\n",
        "```\n",
        "\n",
        "## 3. Inference and Analysis\n",
        "\n",
        "### Run Inference\n",
        "```bash\n",
        "python src/test_inference_finetune.py\n",
        "```\n",
        "\n",
        "### Generate Saliency Maps\n",
        "```bash\n",
        "python src/generate_brainage_vit_saliency.py\n",
        "python src/generate_idh_vit_saliency.py\n",
        "python src/generate_mci_stroke_vit_saliency.py\n",
        "python src/generate_os_vit_saliency.py\n",
        "python src/generate_multiclass_vit_saliency.py\n",
        "```\n",
        "\n",
        "## 4. Next Steps\n",
        "\n",
        "📚 **Detailed Documentation:**\n",
        "- [Brain Age Prediction](docs/downstream_tasks/brain_age_prediction.md)\n",
        "- [IDH Classification](docs/downstream_tasks/idh_classification.md)\n",
        "- [MCI Classification](docs/downstream_tasks/mci_classification.md)\n",
        "- [Overall Survival](docs/downstream_tasks/overall_survival.md)\n",
        "- [Sequence Classification](docs/downstream_tasks/sequence_classification.md)\n",
        "- [Brain Segmentation](docs/downstream_tasks/brain_segmentation.md)\n",
        "\n",
        "🔧 **Configuration:** Update the YAML files in `configs/` directory to match your data paths and experimental settings.\n",
        "\n",
        "📊 **Data Format:** Check the individual task README files for specific CSV formats and directory structures required for each task.\n"
      ]
    }
  ],
  "metadata": {
    "language_info": {
      "name": "python"
    }
  },
  "nbformat": 4,
  "nbformat_minor": 2
}
